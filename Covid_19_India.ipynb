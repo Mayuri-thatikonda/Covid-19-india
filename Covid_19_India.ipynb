{
  "nbformat": 4,
  "nbformat_minor": 0,
  "metadata": {
    "colab": {
      "name": "Covid-19 India.ipynb",
      "provenance": [],
      "authorship_tag": "ABX9TyOyWUUujvJwiaqlKtdkixXm",
      "include_colab_link": true
    },
    "kernelspec": {
      "name": "python3",
      "display_name": "Python 3"
    },
    "language_info": {
      "name": "python"
    }
  },
  "cells": [
    {
      "cell_type": "markdown",
      "metadata": {
        "id": "view-in-github",
        "colab_type": "text"
      },
      "source": [
        "<a href=\"https://colab.research.google.com/github/Mayuri-thatikonda/Covid-19-india/blob/main/Covid_19_India.ipynb\" target=\"_parent\"><img src=\"https://colab.research.google.com/assets/colab-badge.svg\" alt=\"Open In Colab\"/></a>"
      ]
    },
    {
      "cell_type": "code",
      "metadata": {
        "id": "GWboUJkgVFVF"
      },
      "source": [
        "import numpy as np\n",
        "import pandas as pd\n",
        "import matplotlib.pyplot as plt\n"
      ],
      "execution_count": 1,
      "outputs": []
    },
    {
      "cell_type": "code",
      "metadata": {
        "id": "Q1KTcz5cV8jI"
      },
      "source": [
        "dataset=pd.read_csv('Covid-19 India.csv')"
      ],
      "execution_count": 2,
      "outputs": []
    },
    {
      "cell_type": "code",
      "metadata": {
        "colab": {
          "base_uri": "https://localhost:8080/",
          "height": 206
        },
        "id": "jfWfmI6DWGcb",
        "outputId": "a9b4e94b-d5e9-4df8-afac-f6b6d43bafb6"
      },
      "source": [
        "dataset.head()"
      ],
      "execution_count": 3,
      "outputs": [
        {
          "output_type": "execute_result",
          "data": {
            "text/html": [
              "<div>\n",
              "<style scoped>\n",
              "    .dataframe tbody tr th:only-of-type {\n",
              "        vertical-align: middle;\n",
              "    }\n",
              "\n",
              "    .dataframe tbody tr th {\n",
              "        vertical-align: top;\n",
              "    }\n",
              "\n",
              "    .dataframe thead th {\n",
              "        text-align: right;\n",
              "    }\n",
              "</style>\n",
              "<table border=\"1\" class=\"dataframe\">\n",
              "  <thead>\n",
              "    <tr style=\"text-align: right;\">\n",
              "      <th></th>\n",
              "      <th>State/UTs</th>\n",
              "      <th>Total Cases</th>\n",
              "      <th>Active</th>\n",
              "      <th>Discharged</th>\n",
              "      <th>Deaths</th>\n",
              "    </tr>\n",
              "  </thead>\n",
              "  <tbody>\n",
              "    <tr>\n",
              "      <th>0</th>\n",
              "      <td>Andaman and Nicobar</td>\n",
              "      <td>7525</td>\n",
              "      <td>14</td>\n",
              "      <td>7382</td>\n",
              "      <td>129</td>\n",
              "    </tr>\n",
              "    <tr>\n",
              "      <th>1</th>\n",
              "      <td>Andhra Pradesh</td>\n",
              "      <td>1952513</td>\n",
              "      <td>22358</td>\n",
              "      <td>1916914</td>\n",
              "      <td>13241</td>\n",
              "    </tr>\n",
              "    <tr>\n",
              "      <th>2</th>\n",
              "      <td>Arunachal Pradesh</td>\n",
              "      <td>45703</td>\n",
              "      <td>4465</td>\n",
              "      <td>41025</td>\n",
              "      <td>213</td>\n",
              "    </tr>\n",
              "    <tr>\n",
              "      <th>3</th>\n",
              "      <td>Assam</td>\n",
              "      <td>557437</td>\n",
              "      <td>15726</td>\n",
              "      <td>536597</td>\n",
              "      <td>5114</td>\n",
              "    </tr>\n",
              "    <tr>\n",
              "      <th>4</th>\n",
              "      <td>Bihar</td>\n",
              "      <td>72439075</td>\n",
              "      <td>530</td>\n",
              "      <td>714223</td>\n",
              "      <td>9637</td>\n",
              "    </tr>\n",
              "  </tbody>\n",
              "</table>\n",
              "</div>"
            ],
            "text/plain": [
              "             State/UTs  Total Cases  Active  Discharged  Deaths\n",
              "0  Andaman and Nicobar         7525      14        7382     129\n",
              "1       Andhra Pradesh      1952513   22358     1916914   13241\n",
              "2    Arunachal Pradesh        45703    4465       41025     213\n",
              "3                Assam       557437   15726      536597    5114\n",
              "4                Bihar     72439075     530      714223    9637"
            ]
          },
          "metadata": {
            "tags": []
          },
          "execution_count": 3
        }
      ]
    },
    {
      "cell_type": "code",
      "metadata": {
        "colab": {
          "base_uri": "https://localhost:8080/"
        },
        "id": "lYtqJAWFWLbr",
        "outputId": "a5d37495-7785-4228-b9f6-cfcd1009ec11"
      },
      "source": [
        "dataset.info()"
      ],
      "execution_count": 4,
      "outputs": [
        {
          "output_type": "stream",
          "text": [
            "<class 'pandas.core.frame.DataFrame'>\n",
            "RangeIndex: 36 entries, 0 to 35\n",
            "Data columns (total 5 columns):\n",
            " #   Column       Non-Null Count  Dtype \n",
            "---  ------       --------------  ----- \n",
            " 0   State/UTs    36 non-null     object\n",
            " 1   Total Cases  36 non-null     int64 \n",
            " 2   Active       36 non-null     int64 \n",
            " 3   Discharged   36 non-null     int64 \n",
            " 4   Deaths       36 non-null     int64 \n",
            "dtypes: int64(4), object(1)\n",
            "memory usage: 1.5+ KB\n"
          ],
          "name": "stdout"
        }
      ]
    },
    {
      "cell_type": "code",
      "metadata": {
        "colab": {
          "base_uri": "https://localhost:8080/"
        },
        "id": "NOVk-43OWPpP",
        "outputId": "9e64f5e7-9b9c-4ad2-866f-f56d5e5cde1e"
      },
      "source": [
        "dataset.isnull().sum()"
      ],
      "execution_count": 5,
      "outputs": [
        {
          "output_type": "execute_result",
          "data": {
            "text/plain": [
              "State/UTs      0\n",
              "Total Cases    0\n",
              "Active         0\n",
              "Discharged     0\n",
              "Deaths         0\n",
              "dtype: int64"
            ]
          },
          "metadata": {
            "tags": []
          },
          "execution_count": 5
        }
      ]
    },
    {
      "cell_type": "code",
      "metadata": {
        "colab": {
          "base_uri": "https://localhost:8080/"
        },
        "id": "Yt0HQr-bWWqB",
        "outputId": "9fc31e70-7870-4914-e4ab-5b202c8af679"
      },
      "source": [
        "from sklearn.preprocessing import LabelEncoder\n",
        "le = LabelEncoder()\n",
        "dataset['State/UTs'] = le.fit_transform(dataset['State/UTs'])\n",
        "print(dataset)\n"
      ],
      "execution_count": 6,
      "outputs": [
        {
          "output_type": "stream",
          "text": [
            "    State/UTs  Total Cases   Active  Discharged  Deaths\n",
            "0           0         7525       14        7382     129\n",
            "1           1      1952513    22358     1916914   13241\n",
            "2           2        45703     4465       41025     213\n",
            "3           3       557437    15726      536597    5114\n",
            "4           4     72439075      530      714223    9637\n",
            "5           5        61922       32       61081     809\n",
            "6           6      1001037     2789      984737   13511\n",
            "7           7        10637       48       10585       4\n",
            "8           8      1435844      587     1410216   25041\n",
            "9           9       170416     1238      166052    3126\n",
            "10         10       824683      342      814265   10076\n",
            "11         11       769717      740      759360    9617\n",
            "12         12       205017      931      200573    3513\n",
            "13         13       320491     1319      314798    4374\n",
            "14         14       346918      276      341518    5124\n",
            "15         15      2893556    23928     2833276   36352\n",
            "16         16      3254064  1386262     3099469   15969\n",
            "17         17        20296       68       20021     207\n",
            "18         18        10127       81        9997      49\n",
            "19         19       791738      149      781077   10512\n",
            "20         20      6258079    96833     6029817  131429\n",
            "21         21        91460    10251       79744    1465\n",
            "22         22        60597     4708       54875    1014\n",
            "23         23        31145     7772       23238     135\n",
            "24         24        27240     1312       25390     538\n",
            "25         25       965715    17201      943069    5445\n",
            "26         26       120227      922      117518    1787\n",
            "27         27       598741      771      581712   16258\n",
            "28         28       953522      328      944242    8952\n",
            "29         29        24823     2849       21644     330\n",
            "30         30      2546689    24025     2488775   33889\n",
            "31         31       640659     9625      627254    3780\n",
            "32         32        76315     3934       71642     739\n",
            "33         33      1708152      932     1684471   22749\n",
            "34         34       341673      611      333703    7359\n",
            "35         35      1522833    11891     1492878   18064\n"
          ],
          "name": "stdout"
        }
      ]
    },
    {
      "cell_type": "code",
      "metadata": {
        "id": "FmlyK06HWyJ9"
      },
      "source": [
        "X = dataset.iloc[:, :-1].values\n",
        "y = dataset.iloc[:, -1].values\n"
      ],
      "execution_count": 7,
      "outputs": []
    },
    {
      "cell_type": "code",
      "metadata": {
        "id": "IbDhgqd4W8we"
      },
      "source": [
        "from sklearn.model_selection import train_test_split\n",
        "X_train, X_test, y_train, y_test = train_test_split(X, y, test_size = 0.2, random_state = 1)"
      ],
      "execution_count": 8,
      "outputs": []
    },
    {
      "cell_type": "code",
      "metadata": {
        "colab": {
          "base_uri": "https://localhost:8080/"
        },
        "id": "fN1tXemcX_OV",
        "outputId": "34415278-b98b-4480-92e4-af4e21d0c65f"
      },
      "source": [
        "from sklearn.ensemble import RandomForestRegressor\n",
        "regressor = RandomForestRegressor(n_estimators = 10, random_state = 0)\n",
        "regressor.fit(X_train, y_train)\n",
        "y_pred = regressor.predict(X_test)\n",
        "np.set_printoptions(precision=2)\n",
        "print(np.concatenate((y_pred.reshape(len(y_pred),1), y_test.reshape(len(y_test),1)),1))\n",
        "from sklearn.metrics import r2_score\n",
        "r2_score(y_test, y_pred)"
      ],
      "execution_count": 12,
      "outputs": [
        {
          "output_type": "stream",
          "text": [
            "[[22727.5 33889. ]\n",
            " [ 5478.9  7359. ]\n",
            " [14286.5  8952. ]\n",
            " [ 9075.9  5114. ]\n",
            " [ 9830.8 10512. ]\n",
            " [  228.4   207. ]\n",
            " [  908.2  1465. ]\n",
            " [  454.1   135. ]]\n"
          ],
          "name": "stdout"
        },
        {
          "output_type": "execute_result",
          "data": {
            "text/plain": [
              "0.7962636344306315"
            ]
          },
          "metadata": {
            "tags": []
          },
          "execution_count": 12
        }
      ]
    }
  ]
}